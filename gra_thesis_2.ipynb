{
 "cells": [
  {
   "cell_type": "code",
   "execution_count": 1,
   "metadata": {
    "scrolled": true
   },
   "outputs": [
    {
     "name": "stdout",
     "output_type": "stream",
     "text": [
      "/Users/hasegawatakashikana/Desktop/prop\n"
     ]
    }
   ],
   "source": [
    "cd Desktop/prop"
   ]
  },
  {
   "cell_type": "code",
   "execution_count": 2,
   "metadata": {},
   "outputs": [],
   "source": [
    "import numpy as np\n",
    "import matplotlib.pyplot as plt\n",
    "import pandas as pd\n",
    "import matplotlib.image as mpimg\n",
    "import cv2\n",
    "import matplotlib.cm as cm\n",
    "from pdf2image import convert_from_path  \n",
    "pd.options.display.max_columns = None\n",
    "\n",
    "#csvファイルを読み込んで名前を付け開始時間を０：００にする\n",
    "def load(a):\n",
    "    df = pd.read_csv(a+\"_gazedata.csv\")\n",
    "    feature = [\"time\",\"x\",\"y\"]\n",
    "    df.columns=feature\n",
    "    df[\"time\"]=df[\"time\"]-min(df[\"time\"])\n",
    "    return df\n",
    "\n",
    "#y軸を反転させて画像の左右を切り取る\n",
    "def translate(df):\n",
    "#     data[\"y\"]=data[\"y\"].max()-data[\"y\"]\n",
    "    df[\"x\"]=df[\"x\"]-350\n",
    "    df[\"x\"][df[\"x\"]<0]=0\n",
    "    df[\"x\"][df[\"x\"]>900]=900\n",
    "    return df\n",
    "\n",
    "def video_maker(a):\n",
    "    img = mpimg.imread(a+\".jpg\")\n",
    "    img = cv2.cvtColor(img,cv2.COLOR_BGR2RGB)\n",
    "    img = cv2.resize(img,(1280,720))\n",
    "    fourcc = cv2.VideoWriter_fourcc(\"m\",\"p\",\"4\",\"v\")\n",
    "    video = cv2.VideoWriter(a+\".mp4\",fourcc,15.0,(1280,720))\n",
    "    for i in range(1,225):\n",
    "        video.write(img)\n",
    "    video.release()\n",
    "\n",
    "def plot_color(df,img):\n",
    "\n",
    "    dfx = df[\"x\"].values\n",
    "    dfy = df[\"y\"].values\n",
    "    plt.plot(dfx,dfy)\n",
    "    plt.imshow(img)\n",
    "    plt.xlim(0,1280)\n",
    "    plt.ylim(0,720)\n",
    "    plt.show()\n",
    "\n",
    "#範囲チェック用関数 ,座標の位置、範囲を確認する\n",
    "def green_circle(im,x,y,r=20):\n",
    "    cv2.circle(im, (x, y), r, color=(245, 0,0 ), thickness=2)\n",
    "\n"
   ]
  },
  {
   "cell_type": "code",
   "execution_count": 8,
   "metadata": {},
   "outputs": [],
   "source": [
    "y1 = [79,162]\n",
    "y2 = [222,305]\n",
    "y3 = [365,448]\n",
    "y4 = [508,591]\n",
    "y5 = [651,735]\n",
    "y6 = [795,878]\n",
    "dy =20"
   ]
  },
  {
   "cell_type": "code",
   "execution_count": 9,
   "metadata": {},
   "outputs": [],
   "source": [
    "\n",
    "def n_split_AOI1(df):\n",
    "    if (df[\"x\"]>199)&(df[\"x\"]<396)&(df[\"y\"]>y1[0]-dy)&(df[\"y\"]<y1[1]+dy):\n",
    "            return 1\n",
    "    elif (df[\"x\"]>199)&(df[\"x\"]<398)&(df[\"y\"]>y2[0]-dy)&(df[\"y\"]<y2[1]+dy):\n",
    "            return 2\n",
    "    elif (df[\"x\"]>199)&(df[\"x\"]<598)&(df[\"y\"]>y3[0]-dy)&(df[\"y\"]<y3[1]+dy):\n",
    "            return 3\n",
    "    elif (df[\"x\"]>257)&(df[\"x\"]<567)&(df[\"y\"]>y4[0]-dy)&(df[\"y\"]<y4[1]+dy):\n",
    "            return 4\n",
    "    elif (df[\"x\"]>257)&(df[\"x\"]<550)&(df[\"y\"]>y5[0]-dy)&(df[\"y\"]<y5[1]+dy):\n",
    "            return 5\n",
    "    elif (df[\"x\"]>1056):\n",
    "            return -1\n",
    "    else:\n",
    "        return 0\n",
    "\n",
    "def n_split_AOI2(df):\n",
    "    if (df[\"x\"]>199)&(df[\"x\"]<396)&(df[\"y\"]>y1[0]-dy)&(df[\"y\"]<y1[1]+dy):\n",
    "            return 1\n",
    "    elif (df[\"x\"]>199)&(df[\"x\"]<398)&(df[\"y\"]>y2[0]-dy)&(df[\"y\"]<y2[1]+dy):\n",
    "            return 2\n",
    "    elif (df[\"x\"]>199)&(df[\"x\"]<488)&(df[\"y\"]>y3[0]-dy)&(df[\"y\"]<y3[1]+dy):\n",
    "            return 3\n",
    "    elif (df[\"x\"]>257)&(df[\"x\"]<567)&(df[\"y\"]>y4[0]-dy)&(df[\"y\"]<y4[1]+dy):\n",
    "            return 4\n",
    "    elif (df[\"x\"]>257)&(df[\"x\"]<550)&(df[\"y\"]>y5[0]-dy)&(df[\"y\"]<y5[1]+dy):\n",
    "            return 5\n",
    "    elif (df[\"x\"]>1056):\n",
    "            return -1\n",
    "    else:\n",
    "        return 0\n",
    "    \n",
    "def n_split_AOI3(df):\n",
    "    if (df[\"x\"]>199)&(df[\"x\"]<398)&(df[\"y\"]>y1[0]-dy)&(df[\"y\"]<y1[1]+dy):\n",
    "            return 1\n",
    "    elif (df[\"x\"]>199)&(df[\"x\"]<488)&(df[\"y\"]>y2[0]-dy)&(df[\"y\"]<y2[1]+dy):\n",
    "            return 2\n",
    "    elif (df[\"x\"]>257)&(df[\"x\"]<567)&(df[\"y\"]>y3[0]-dy)&(df[\"y\"]<y3[1]+dy):\n",
    "            return 3\n",
    "    elif (df[\"x\"]>257)&(df[\"x\"]<569)&(df[\"y\"]>y4[0]-dy)&(df[\"y\"]<y4[1]+dy):\n",
    "            return 4\n",
    "    elif (df[\"x\"]>1056):\n",
    "            return -1\n",
    "    else:\n",
    "        return 0\n",
    "\n",
    "def n_split_AOI4(df):\n",
    "    if (df[\"x\"]>199)&(df[\"x\"]<398)&(df[\"y\"]>y1[0]-dy)&(df[\"y\"]<y1[1]+dy):\n",
    "            return 1\n",
    "    elif (df[\"x\"]>199)&(df[\"x\"]<509)&(df[\"y\"]>y2[0]-dy)&(df[\"y\"]<y2[1]+dy):\n",
    "            return 2\n",
    "    elif (df[\"x\"]>199)&(df[\"x\"]<491)&(df[\"y\"]>y3[0]-dy)&(df[\"y\"]<y3[1]+dy):\n",
    "            return 3\n",
    "    elif (df[\"x\"]>1056):\n",
    "            return -1\n",
    "    else:\n",
    "        return 0\n",
    "\n",
    "def n_split_AOI5(df):\n",
    "    if (df[\"x\"]>199)&(df[\"x\"]<396)&(df[\"y\"]>y1[0]-dy)&(df[\"y\"]<y1[1]+dy):\n",
    "            return 1\n",
    "    elif (df[\"x\"]>199)&(df[\"x\"]<398)&(df[\"y\"]>y2[0]-dy)&(df[\"y\"]<y2[1]+dy):\n",
    "            return 2\n",
    "    elif (df[\"x\"]>199)&(df[\"x\"]<486)&(df[\"y\"]>y3[0]-dy)&(df[\"y\"]<y3[1]+dy):\n",
    "            return 3\n",
    "    elif (df[\"x\"]>257)&(df[\"x\"]<549)&(df[\"y\"]>y4[0]-dy)&(df[\"y\"]<y4[1]+dy):\n",
    "            return 4\n",
    "    elif (df[\"x\"]>257)&(df[\"x\"]<567)&(df[\"y\"]>y5[0]-dy)&(df[\"y\"]<y5[1]+dy):\n",
    "            return 5\n",
    "    elif (df[\"x\"]>1056):\n",
    "            return -1\n",
    "    else:\n",
    "        return 0\n",
    "\n",
    "def n_split_AOI6(df):\n",
    "    if (df[\"x\"]>199)&(df[\"x\"]<398)&(df[\"y\"]>y1[0]-dy)&(df[\"y\"]<y1[1]+dy):\n",
    "            return 1\n",
    "    elif (df[\"x\"]>199)&(df[\"x\"]<486)&(df[\"y\"]>y2[0]-dy)&(df[\"y\"]<y2[1]+dy):\n",
    "            return 2\n",
    "    elif (df[\"x\"]>257)&(df[\"x\"]<553)&(df[\"y\"]>y3[0]-dy)&(df[\"y\"]<y3[1]+dy):\n",
    "            return 3\n",
    "    elif (df[\"x\"]>257)&(df[\"x\"]<569)&(df[\"y\"]>y4[0]-dy)&(df[\"y\"]<y4[1]+dy):\n",
    "            return 4\n",
    "    elif (df[\"x\"]>199)&(df[\"x\"]<404)&(df[\"y\"]>y5[0]-dy)&(df[\"y\"]<y5[1]+dy):\n",
    "            return 5\n",
    "    elif (df[\"x\"]>257)&(df[\"x\"]<567)&(df[\"y\"]>y6[0]-dy)&(df[\"y\"]<y6[1]+dy):\n",
    "            return 6\n",
    "    elif (df[\"x\"]>1056):\n",
    "            return -1\n",
    "    else:\n",
    "        return 0\n",
    "\n",
    "def n_split_AOI7(df):\n",
    "    if (df[\"x\"]>199)&(df[\"x\"]<396)&(df[\"y\"]>y1[0]-dy)&(df[\"y\"]<y1[1]+dy):\n",
    "            return 1\n",
    "    elif (df[\"x\"]>199)&(df[\"x\"]<398)&(df[\"y\"]>y2[0]-dy)&(df[\"y\"]<y2[1]+dy):\n",
    "            return 2\n",
    "    elif (df[\"x\"]>199)&(df[\"x\"]<491)&(df[\"y\"]>y3[0]-dy)&(df[\"y\"]<y3[1]+dy):\n",
    "            return 3\n",
    "    elif (df[\"x\"]>199)&(df[\"x\"]<507)&(df[\"y\"]>y4[0]-dy)&(df[\"y\"]<y4[1]+dy):\n",
    "            return 4\n",
    "    elif (df[\"x\"]>1056):\n",
    "            return -1\n",
    "    else:\n",
    "        return 0\n"
   ]
  },
  {
   "cell_type": "code",
   "execution_count": 310,
   "metadata": {},
   "outputs": [],
   "source": [
    "df = load(\"prop/e4\")"
   ]
  },
  {
   "cell_type": "code",
   "execution_count": 311,
   "metadata": {
    "scrolled": true
   },
   "outputs": [
    {
     "data": {
      "text/plain": [
       "(0.0, 564.9505608, 33439)"
      ]
     },
     "execution_count": 311,
     "metadata": {},
     "output_type": "execute_result"
    }
   ],
   "source": [
    "df[\"time\"].min(),df[\"time\"].max(),len(df)"
   ]
  },
  {
   "cell_type": "code",
   "execution_count": 347,
   "metadata": {},
   "outputs": [
    {
     "data": {
      "text/html": [
       "<div>\n",
       "<style scoped>\n",
       "    .dataframe tbody tr th:only-of-type {\n",
       "        vertical-align: middle;\n",
       "    }\n",
       "\n",
       "    .dataframe tbody tr th {\n",
       "        vertical-align: top;\n",
       "    }\n",
       "\n",
       "    .dataframe thead th {\n",
       "        text-align: right;\n",
       "    }\n",
       "</style>\n",
       "<table border=\"1\" class=\"dataframe\">\n",
       "  <thead>\n",
       "    <tr style=\"text-align: right;\">\n",
       "      <th></th>\n",
       "      <th>time</th>\n",
       "      <th>x</th>\n",
       "      <th>y</th>\n",
       "    </tr>\n",
       "  </thead>\n",
       "  <tbody>\n",
       "    <tr>\n",
       "      <th>2991</th>\n",
       "      <td>50.423044</td>\n",
       "      <td>1169.231</td>\n",
       "      <td>493.8203</td>\n",
       "    </tr>\n",
       "    <tr>\n",
       "      <th>2992</th>\n",
       "      <td>50.440517</td>\n",
       "      <td>1175.019</td>\n",
       "      <td>447.1735</td>\n",
       "    </tr>\n",
       "    <tr>\n",
       "      <th>2993</th>\n",
       "      <td>50.456588</td>\n",
       "      <td>1230.074</td>\n",
       "      <td>487.9254</td>\n",
       "    </tr>\n",
       "    <tr>\n",
       "      <th>2994</th>\n",
       "      <td>50.473888</td>\n",
       "      <td>1230.074</td>\n",
       "      <td>487.9254</td>\n",
       "    </tr>\n",
       "    <tr>\n",
       "      <th>2995</th>\n",
       "      <td>50.490248</td>\n",
       "      <td>1280.059</td>\n",
       "      <td>485.9792</td>\n",
       "    </tr>\n",
       "    <tr>\n",
       "      <th>2996</th>\n",
       "      <td>50.507366</td>\n",
       "      <td>1281.169</td>\n",
       "      <td>465.9880</td>\n",
       "    </tr>\n",
       "    <tr>\n",
       "      <th>2997</th>\n",
       "      <td>50.523328</td>\n",
       "      <td>1294.767</td>\n",
       "      <td>469.3954</td>\n",
       "    </tr>\n",
       "    <tr>\n",
       "      <th>2998</th>\n",
       "      <td>50.540516</td>\n",
       "      <td>1305.922</td>\n",
       "      <td>472.5186</td>\n",
       "    </tr>\n",
       "    <tr>\n",
       "      <th>2999</th>\n",
       "      <td>50.556596</td>\n",
       "      <td>1316.111</td>\n",
       "      <td>475.5896</td>\n",
       "    </tr>\n",
       "    <tr>\n",
       "      <th>3000</th>\n",
       "      <td>50.574703</td>\n",
       "      <td>1324.962</td>\n",
       "      <td>477.7554</td>\n",
       "    </tr>\n",
       "    <tr>\n",
       "      <th>3001</th>\n",
       "      <td>50.589931</td>\n",
       "      <td>1333.729</td>\n",
       "      <td>479.7435</td>\n",
       "    </tr>\n",
       "    <tr>\n",
       "      <th>3002</th>\n",
       "      <td>50.607250</td>\n",
       "      <td>1342.140</td>\n",
       "      <td>481.1731</td>\n",
       "    </tr>\n",
       "    <tr>\n",
       "      <th>3003</th>\n",
       "      <td>50.624096</td>\n",
       "      <td>1342.140</td>\n",
       "      <td>481.1731</td>\n",
       "    </tr>\n",
       "    <tr>\n",
       "      <th>3004</th>\n",
       "      <td>50.643812</td>\n",
       "      <td>1356.708</td>\n",
       "      <td>479.2484</td>\n",
       "    </tr>\n",
       "    <tr>\n",
       "      <th>3005</th>\n",
       "      <td>50.656845</td>\n",
       "      <td>1370.758</td>\n",
       "      <td>474.5284</td>\n",
       "    </tr>\n",
       "    <tr>\n",
       "      <th>3006</th>\n",
       "      <td>50.673865</td>\n",
       "      <td>1389.428</td>\n",
       "      <td>471.7436</td>\n",
       "    </tr>\n",
       "    <tr>\n",
       "      <th>3007</th>\n",
       "      <td>50.690259</td>\n",
       "      <td>1415.047</td>\n",
       "      <td>473.1031</td>\n",
       "    </tr>\n",
       "    <tr>\n",
       "      <th>3008</th>\n",
       "      <td>50.707363</td>\n",
       "      <td>1438.791</td>\n",
       "      <td>471.3161</td>\n",
       "    </tr>\n",
       "    <tr>\n",
       "      <th>3009</th>\n",
       "      <td>50.723780</td>\n",
       "      <td>1449.368</td>\n",
       "      <td>475.2304</td>\n",
       "    </tr>\n",
       "    <tr>\n",
       "      <th>3010</th>\n",
       "      <td>50.740782</td>\n",
       "      <td>1463.880</td>\n",
       "      <td>476.3480</td>\n",
       "    </tr>\n",
       "    <tr>\n",
       "      <th>3011</th>\n",
       "      <td>50.757064</td>\n",
       "      <td>1488.278</td>\n",
       "      <td>466.6930</td>\n",
       "    </tr>\n",
       "    <tr>\n",
       "      <th>3012</th>\n",
       "      <td>50.774287</td>\n",
       "      <td>1488.278</td>\n",
       "      <td>466.6930</td>\n",
       "    </tr>\n",
       "    <tr>\n",
       "      <th>3013</th>\n",
       "      <td>50.790633</td>\n",
       "      <td>1496.778</td>\n",
       "      <td>470.7303</td>\n",
       "    </tr>\n",
       "    <tr>\n",
       "      <th>3014</th>\n",
       "      <td>50.807585</td>\n",
       "      <td>1517.709</td>\n",
       "      <td>468.3629</td>\n",
       "    </tr>\n",
       "    <tr>\n",
       "      <th>3015</th>\n",
       "      <td>50.823776</td>\n",
       "      <td>1529.501</td>\n",
       "      <td>467.0744</td>\n",
       "    </tr>\n",
       "    <tr>\n",
       "      <th>3016</th>\n",
       "      <td>50.840753</td>\n",
       "      <td>1540.562</td>\n",
       "      <td>467.3760</td>\n",
       "    </tr>\n",
       "    <tr>\n",
       "      <th>3017</th>\n",
       "      <td>50.856967</td>\n",
       "      <td>1548.733</td>\n",
       "      <td>467.1885</td>\n",
       "    </tr>\n",
       "    <tr>\n",
       "      <th>3018</th>\n",
       "      <td>50.874203</td>\n",
       "      <td>1556.319</td>\n",
       "      <td>467.0272</td>\n",
       "    </tr>\n",
       "    <tr>\n",
       "      <th>3019</th>\n",
       "      <td>50.890319</td>\n",
       "      <td>1585.763</td>\n",
       "      <td>436.5049</td>\n",
       "    </tr>\n",
       "    <tr>\n",
       "      <th>3020</th>\n",
       "      <td>50.907717</td>\n",
       "      <td>1572.295</td>\n",
       "      <td>464.6547</td>\n",
       "    </tr>\n",
       "    <tr>\n",
       "      <th>...</th>\n",
       "      <td>...</td>\n",
       "      <td>...</td>\n",
       "      <td>...</td>\n",
       "    </tr>\n",
       "    <tr>\n",
       "      <th>4126</th>\n",
       "      <td>69.499961</td>\n",
       "      <td>1576.431</td>\n",
       "      <td>578.6501</td>\n",
       "    </tr>\n",
       "    <tr>\n",
       "      <th>4127</th>\n",
       "      <td>69.516127</td>\n",
       "      <td>1576.431</td>\n",
       "      <td>578.6501</td>\n",
       "    </tr>\n",
       "    <tr>\n",
       "      <th>4128</th>\n",
       "      <td>69.533365</td>\n",
       "      <td>1563.777</td>\n",
       "      <td>597.7015</td>\n",
       "    </tr>\n",
       "    <tr>\n",
       "      <th>4129</th>\n",
       "      <td>69.549444</td>\n",
       "      <td>1558.673</td>\n",
       "      <td>604.9891</td>\n",
       "    </tr>\n",
       "    <tr>\n",
       "      <th>4130</th>\n",
       "      <td>69.566670</td>\n",
       "      <td>1557.698</td>\n",
       "      <td>608.5082</td>\n",
       "    </tr>\n",
       "    <tr>\n",
       "      <th>4131</th>\n",
       "      <td>69.583133</td>\n",
       "      <td>1556.888</td>\n",
       "      <td>611.3308</td>\n",
       "    </tr>\n",
       "    <tr>\n",
       "      <th>4132</th>\n",
       "      <td>69.600467</td>\n",
       "      <td>1552.427</td>\n",
       "      <td>620.3773</td>\n",
       "    </tr>\n",
       "    <tr>\n",
       "      <th>4133</th>\n",
       "      <td>69.616403</td>\n",
       "      <td>1550.283</td>\n",
       "      <td>622.5981</td>\n",
       "    </tr>\n",
       "    <tr>\n",
       "      <th>4134</th>\n",
       "      <td>69.633580</td>\n",
       "      <td>1550.036</td>\n",
       "      <td>623.3525</td>\n",
       "    </tr>\n",
       "    <tr>\n",
       "      <th>4135</th>\n",
       "      <td>69.649541</td>\n",
       "      <td>1549.877</td>\n",
       "      <td>623.7771</td>\n",
       "    </tr>\n",
       "    <tr>\n",
       "      <th>4136</th>\n",
       "      <td>69.666786</td>\n",
       "      <td>1549.877</td>\n",
       "      <td>623.7771</td>\n",
       "    </tr>\n",
       "    <tr>\n",
       "      <th>4137</th>\n",
       "      <td>69.683387</td>\n",
       "      <td>1549.765</td>\n",
       "      <td>626.3362</td>\n",
       "    </tr>\n",
       "    <tr>\n",
       "      <th>4138</th>\n",
       "      <td>69.700450</td>\n",
       "      <td>1547.509</td>\n",
       "      <td>628.4066</td>\n",
       "    </tr>\n",
       "    <tr>\n",
       "      <th>4139</th>\n",
       "      <td>69.716316</td>\n",
       "      <td>1545.551</td>\n",
       "      <td>630.3241</td>\n",
       "    </tr>\n",
       "    <tr>\n",
       "      <th>4140</th>\n",
       "      <td>69.733691</td>\n",
       "      <td>1543.806</td>\n",
       "      <td>631.3145</td>\n",
       "    </tr>\n",
       "    <tr>\n",
       "      <th>4141</th>\n",
       "      <td>69.749780</td>\n",
       "      <td>1544.711</td>\n",
       "      <td>632.6528</td>\n",
       "    </tr>\n",
       "    <tr>\n",
       "      <th>4142</th>\n",
       "      <td>69.766916</td>\n",
       "      <td>1543.366</td>\n",
       "      <td>633.5458</td>\n",
       "    </tr>\n",
       "    <tr>\n",
       "      <th>4143</th>\n",
       "      <td>69.783128</td>\n",
       "      <td>1542.907</td>\n",
       "      <td>634.2749</td>\n",
       "    </tr>\n",
       "    <tr>\n",
       "      <th>4144</th>\n",
       "      <td>69.800348</td>\n",
       "      <td>1541.627</td>\n",
       "      <td>635.4908</td>\n",
       "    </tr>\n",
       "    <tr>\n",
       "      <th>4145</th>\n",
       "      <td>69.816522</td>\n",
       "      <td>1541.627</td>\n",
       "      <td>635.4908</td>\n",
       "    </tr>\n",
       "    <tr>\n",
       "      <th>4146</th>\n",
       "      <td>69.833762</td>\n",
       "      <td>1543.235</td>\n",
       "      <td>634.8336</td>\n",
       "    </tr>\n",
       "    <tr>\n",
       "      <th>4147</th>\n",
       "      <td>69.850061</td>\n",
       "      <td>1543.991</td>\n",
       "      <td>634.4089</td>\n",
       "    </tr>\n",
       "    <tr>\n",
       "      <th>4148</th>\n",
       "      <td>69.867150</td>\n",
       "      <td>1544.721</td>\n",
       "      <td>634.5594</td>\n",
       "    </tr>\n",
       "    <tr>\n",
       "      <th>4149</th>\n",
       "      <td>69.883822</td>\n",
       "      <td>1546.056</td>\n",
       "      <td>633.7965</td>\n",
       "    </tr>\n",
       "    <tr>\n",
       "      <th>4150</th>\n",
       "      <td>69.900769</td>\n",
       "      <td>1546.860</td>\n",
       "      <td>633.4160</td>\n",
       "    </tr>\n",
       "    <tr>\n",
       "      <th>4151</th>\n",
       "      <td>69.917058</td>\n",
       "      <td>1547.398</td>\n",
       "      <td>632.6417</td>\n",
       "    </tr>\n",
       "    <tr>\n",
       "      <th>4152</th>\n",
       "      <td>69.933800</td>\n",
       "      <td>1546.804</td>\n",
       "      <td>632.1090</td>\n",
       "    </tr>\n",
       "    <tr>\n",
       "      <th>4153</th>\n",
       "      <td>69.950000</td>\n",
       "      <td>1547.984</td>\n",
       "      <td>630.6450</td>\n",
       "    </tr>\n",
       "    <tr>\n",
       "      <th>4154</th>\n",
       "      <td>69.967262</td>\n",
       "      <td>1547.984</td>\n",
       "      <td>630.6450</td>\n",
       "    </tr>\n",
       "    <tr>\n",
       "      <th>4155</th>\n",
       "      <td>69.983426</td>\n",
       "      <td>1551.522</td>\n",
       "      <td>628.4404</td>\n",
       "    </tr>\n",
       "  </tbody>\n",
       "</table>\n",
       "<p>1138 rows × 3 columns</p>\n",
       "</div>"
      ],
      "text/plain": [
       "           time         x         y\n",
       "2991  50.423044  1169.231  493.8203\n",
       "2992  50.440517  1175.019  447.1735\n",
       "2993  50.456588  1230.074  487.9254\n",
       "2994  50.473888  1230.074  487.9254\n",
       "2995  50.490248  1280.059  485.9792\n",
       "2996  50.507366  1281.169  465.9880\n",
       "2997  50.523328  1294.767  469.3954\n",
       "2998  50.540516  1305.922  472.5186\n",
       "2999  50.556596  1316.111  475.5896\n",
       "3000  50.574703  1324.962  477.7554\n",
       "3001  50.589931  1333.729  479.7435\n",
       "3002  50.607250  1342.140  481.1731\n",
       "3003  50.624096  1342.140  481.1731\n",
       "3004  50.643812  1356.708  479.2484\n",
       "3005  50.656845  1370.758  474.5284\n",
       "3006  50.673865  1389.428  471.7436\n",
       "3007  50.690259  1415.047  473.1031\n",
       "3008  50.707363  1438.791  471.3161\n",
       "3009  50.723780  1449.368  475.2304\n",
       "3010  50.740782  1463.880  476.3480\n",
       "3011  50.757064  1488.278  466.6930\n",
       "3012  50.774287  1488.278  466.6930\n",
       "3013  50.790633  1496.778  470.7303\n",
       "3014  50.807585  1517.709  468.3629\n",
       "3015  50.823776  1529.501  467.0744\n",
       "3016  50.840753  1540.562  467.3760\n",
       "3017  50.856967  1548.733  467.1885\n",
       "3018  50.874203  1556.319  467.0272\n",
       "3019  50.890319  1585.763  436.5049\n",
       "3020  50.907717  1572.295  464.6547\n",
       "...         ...       ...       ...\n",
       "4126  69.499961  1576.431  578.6501\n",
       "4127  69.516127  1576.431  578.6501\n",
       "4128  69.533365  1563.777  597.7015\n",
       "4129  69.549444  1558.673  604.9891\n",
       "4130  69.566670  1557.698  608.5082\n",
       "4131  69.583133  1556.888  611.3308\n",
       "4132  69.600467  1552.427  620.3773\n",
       "4133  69.616403  1550.283  622.5981\n",
       "4134  69.633580  1550.036  623.3525\n",
       "4135  69.649541  1549.877  623.7771\n",
       "4136  69.666786  1549.877  623.7771\n",
       "4137  69.683387  1549.765  626.3362\n",
       "4138  69.700450  1547.509  628.4066\n",
       "4139  69.716316  1545.551  630.3241\n",
       "4140  69.733691  1543.806  631.3145\n",
       "4141  69.749780  1544.711  632.6528\n",
       "4142  69.766916  1543.366  633.5458\n",
       "4143  69.783128  1542.907  634.2749\n",
       "4144  69.800348  1541.627  635.4908\n",
       "4145  69.816522  1541.627  635.4908\n",
       "4146  69.833762  1543.235  634.8336\n",
       "4147  69.850061  1543.991  634.4089\n",
       "4148  69.867150  1544.721  634.5594\n",
       "4149  69.883822  1546.056  633.7965\n",
       "4150  69.900769  1546.860  633.4160\n",
       "4151  69.917058  1547.398  632.6417\n",
       "4152  69.933800  1546.804  632.1090\n",
       "4153  69.950000  1547.984  630.6450\n",
       "4154  69.967262  1547.984  630.6450\n",
       "4155  69.983426  1551.522  628.4404\n",
       "\n",
       "[1138 rows x 3 columns]"
      ]
     },
     "execution_count": 347,
     "metadata": {},
     "output_type": "execute_result"
    }
   ],
   "source": [
    "df1 = df[df[\"time\"]<70]\n",
    "df1 = df1[df1[\"time\"]>40]\n",
    "df1[df1[\"x\"]>1100]"
   ]
  },
  {
   "cell_type": "code",
   "execution_count": 325,
   "metadata": {},
   "outputs": [
    {
     "data": {
      "text/plain": [
       "[<matplotlib.lines.Line2D at 0x12128a198>]"
      ]
     },
     "execution_count": 325,
     "metadata": {},
     "output_type": "execute_result"
    },
    {
     "data": {
      "image/png": "[encoded data removed]",
      "text/plain": [
       "<Figure size 432x288 with 1 Axes>"
      ]
     },
     "metadata": {
      "needs_background": "light"
     },
     "output_type": "display_data"
    }
   ],
   "source": [
    "plt.ylim(1080,0)\n",
    "plt.plot(df1[\"time\"],df1[\"y\"])"
   ]
  },
  {
   "cell_type": "code",
   "execution_count": 282,
   "metadata": {},
   "outputs": [],
   "source": [
    "im = cv2.imread(\"pic/check3.png\")"
   ]
  },
  {
   "cell_type": "code",
   "execution_count": 283,
   "metadata": {},
   "outputs": [
    {
     "data": {
      "image/png": "[encoded data removed]",
      "text/plain": [
       "<Figure size 432x288 with 1 Axes>"
      ]
     },
     "metadata": {
      "needs_background": "light"
     },
     "output_type": "display_data"
    }
   ],
   "source": [
    "plt.imshow(im[800:,:])\n",
    "plt.show()"
   ]
  },
  {
   "cell_type": "code",
   "execution_count": 10,
   "metadata": {
    "scrolled": true
   },
   "outputs": [],
   "source": [
    "distance = np.tan(10)*70\n",
    "pixel_cm = ((29.7/1050)+(47.2/1680))/2\n",
    "v = distance/pixel_cm"
   ]
  },
  {
   "cell_type": "code",
   "execution_count": 232,
   "metadata": {},
   "outputs": [
    {
     "name": "stderr",
     "output_type": "stream",
     "text": [
      "/anaconda3/lib/python3.5/site-packages/ipykernel_launcher.py:15: SettingWithCopyWarning: \n",
      "A value is trying to be set on a copy of a slice from a DataFrame\n",
      "\n",
      "See the caveats in the documentation: http://pandas.pydata.org/pandas-docs/stable/indexing.html#indexing-view-versus-copy\n",
      "  from ipykernel import kernelapp as app\n",
      "/anaconda3/lib/python3.5/site-packages/ipykernel_launcher.py:26: SettingWithCopyWarning: \n",
      "A value is trying to be set on a copy of a slice from a DataFrame.\n",
      "Try using .loc[row_indexer,col_indexer] = value instead\n",
      "\n",
      "See the caveats in the documentation: http://pandas.pydata.org/pandas-docs/stable/indexing.html#indexing-view-versus-copy\n"
     ]
    }
   ],
   "source": [
    "df = load(\"hasegawayobi\")\n",
    "abb = np.array([0])\n",
    "df[\"velo\"]=0\n",
    "for i , j in df.iterrows():\n",
    "    if i !=0:\n",
    "        a1 = np.array([j[\"x\"],j[\"y\"]])\n",
    "        a2 = np.array([df.iloc[i-1][\"x\"],df.iloc[i-1][\"y\"]])\n",
    "        dist = np.linalg.norm(a1-a2)\n",
    "        tt1 = j[\"time\"]\n",
    "        tt2 = df.iloc[i-1][\"time\"]\n",
    "        tt3 = tt1-tt2\n",
    "        abb = np.append(abb,dist/tt3)\n",
    "df[\"velo\"]=abb\n",
    "df[\"slow\"]=True\n",
    "df.slow[df[\"velo\"]>v]=False\n",
    "c = 0  #状態用 0なら注視中、１ならサッケード中\n",
    "t = 0\n",
    "k = 0  #index\n",
    "for i , j in df.iterrows():\n",
    "    if i!=0:\n",
    "        if c == 0:\n",
    "            if (not j[\"slow\"])&(df.iloc[i-1][\"slow\"]):\n",
    "                c = 1\n",
    "                if (df.iloc[i-1][\"time\"]-t)<0.2:\n",
    "#                     print(\"a\")\n",
    "                    df.iloc[k:i-1][\"slow\"]=False\n",
    "#                     print(\"+\")\n",
    "        else:\n",
    "            if ( j[\"slow\"])&(not df.iloc[i-1][\"slow\"]):\n",
    "#                 print(\"b\")\n",
    "                c = 0\n",
    "                t = j[\"time\"]\n",
    "                k = i\n",
    "df_copy = df.copy()\n",
    "df=df[df[\"slow\"]==True]\n",
    "df7 = df[df[\"time\"]>5]                                   #7問目\n",
    "df7= df7[df7[\"time\"]<35]\n",
    "df7[\"AOI\"]=df7.apply(n_split_AOI7,axis=1)"
   ]
  },
  {
   "cell_type": "code",
   "execution_count": 291,
   "metadata": {},
   "outputs": [
    {
     "name": "stderr",
     "output_type": "stream",
     "text": [
      "/anaconda3/lib/python3.5/site-packages/ipykernel_launcher.py:15: SettingWithCopyWarning: \n",
      "A value is trying to be set on a copy of a slice from a DataFrame\n",
      "\n",
      "See the caveats in the documentation: http://pandas.pydata.org/pandas-docs/stable/indexing.html#indexing-view-versus-copy\n",
      "  from ipykernel import kernelapp as app\n"
     ]
    }
   ],
   "source": [
    "df = load(\"hasegawa\")\n",
    "abb = np.array([0])\n",
    "df[\"velo\"]=0\n",
    "for i , j in df.iterrows():\n",
    "    if i !=0:\n",
    "        a1 = np.array([j[\"x\"],j[\"y\"]])\n",
    "        a2 = np.array([df.iloc[i-1][\"x\"],df.iloc[i-1][\"y\"]])\n",
    "        dist = np.linalg.norm(a1-a2)\n",
    "        tt1 = j[\"time\"]\n",
    "        tt2 = df.iloc[i-1][\"time\"]\n",
    "        tt3 = tt1-tt2\n",
    "        abb = np.append(abb,dist/tt3)\n",
    "df[\"velo\"]=abb\n",
    "df[\"slow\"]=True\n",
    "df.slow[df[\"velo\"]>v]=False"
   ]
  },
  {
   "cell_type": "code",
   "execution_count": 292,
   "metadata": {},
   "outputs": [
    {
     "name": "stderr",
     "output_type": "stream",
     "text": [
      "/anaconda3/lib/python3.5/site-packages/ipykernel_launcher.py:11: SettingWithCopyWarning: \n",
      "A value is trying to be set on a copy of a slice from a DataFrame.\n",
      "Try using .loc[row_indexer,col_indexer] = value instead\n",
      "\n",
      "See the caveats in the documentation: http://pandas.pydata.org/pandas-docs/stable/indexing.html#indexing-view-versus-copy\n",
      "  # This is added back by InteractiveShellApp.init_path()\n"
     ]
    }
   ],
   "source": [
    "c = 0  #状態用 0なら注視中、１ならサッケード中\n",
    "t = 0\n",
    "k = 0  #index\n",
    "for i , j in df.iterrows():\n",
    "    if i!=0:\n",
    "        if c == 0:\n",
    "            if (not j[\"slow\"])&(df.iloc[i-1][\"slow\"]):\n",
    "                c = 1\n",
    "                if (df.iloc[i-1][\"time\"]-t)<0.2:\n",
    "#                     print(\"a\")\n",
    "                    df.iloc[k:i-1][\"slow\"]=False\n",
    "#                     print(\"+\")\n",
    "        else:\n",
    "            if ( j[\"slow\"])&(not df.iloc[i-1][\"slow\"]):\n",
    "#                 print(\"b\")\n",
    "                c = 0\n",
    "                t = j[\"time\"]\n",
    "                k = i\n",
    "df_copy = df.copy()"
   ]
  },
  {
   "cell_type": "code",
   "execution_count": 293,
   "metadata": {},
   "outputs": [],
   "source": [
    "df=df[df[\"slow\"]==True]"
   ]
  },
  {
   "cell_type": "code",
   "execution_count": 294,
   "metadata": {},
   "outputs": [],
   "source": [
    "ti = 10  ##キャリブレーション時間\n",
    "tii = 5 ##課題間の待ち時間\n",
    "tiii = 30 ##課題解答時間\n",
    "t1 = ti\n",
    "t2 = t1 + tii  ##↓1問目\n",
    "t3 = t2 + tiii\n",
    "t4 = t3 + tii  ##↓2問目\n",
    "t5 = t4 + tiii\n",
    "t6 = t5 + tii ##↓3問目\n",
    "t7 = t6 + tiii\n",
    "t8 = t7 + tii ##↓4問目\n",
    "t9 = t8 + tiii\n",
    "t10 = t9 + tii ##↓5問目\n",
    "t11 = t10 + tiii\n",
    "t12 = t11 + tii ##↓6問目\n",
    "t13 = t12 + tiii\n",
    "t14 = t13 + tii ##↓7問目\n",
    "t15 = t14 + tiii"
   ]
  },
  {
   "cell_type": "code",
   "execution_count": 295,
   "metadata": {},
   "outputs": [],
   "source": [
    "# df = load(\"hasegawa\")\n",
    "# dx=0\n",
    "# dy=0\n",
    "# ddf = df[df[\"time\"]<t10]\n",
    "# ddf = ddf[ddf[\"time\"]>143]\n",
    "# dx = ddf[\"x\"].mean()-750\n",
    "# dy = ddf[\"y\"].mean()-500\n",
    "# df[\"x\"]= df[\"x\"]-dx\n",
    "# df[\"y\"]=df[\"y\"]-dy\n",
    "df[\"AOI\"]=0\n",
    "df1 = df[df[\"time\"]>t2]                                     #１問目\n",
    "df1 = df1[df1[\"time\"]<t3]\n",
    "df1[\"AOI\"]=df1.apply(n_split_AOI1,axis=1)\n",
    "df2 = df[df[\"time\"]>t4]                                     #2問目\n",
    "df2 = df2[df2[\"time\"]<t5]\n",
    "df2[\"AOI\"]=df2.apply(n_split_AOI2,axis=1)\n",
    "df3 =  df[df[\"time\"]>t6]                                    #3問目\n",
    "df3 = df3[df3[\"time\"]<t7]\n",
    "df3[\"AOI\"]=df3.apply(n_split_AOI3,axis=1)\n",
    "df4 = df[df[\"time\"]>t8]                                     #4問目\n",
    "df4 = df4[df4[\"time\"]<t9]\n",
    "df4[\"AOI\"]=df4.apply(n_split_AOI4,axis=1)\n",
    "df5 = df[df[\"time\"]>t10]                                   #5問目\n",
    "df5 = df5[df5[\"time\"]<t11]\n",
    "df5[\"AOI\"]=df5.apply(n_split_AOI5,axis=1)\n",
    "df6 = df[df[\"time\"]>t12]                                   #6問目\n",
    "df6 = df6[df6[\"time\"]<t13]\n",
    "df6[\"AOI\"]=df6.apply(n_split_AOI6,axis=1)\n",
    "df7 = df[df[\"time\"]>t14]                                   #7問目\n",
    "df7= df7[df7[\"time\"]<t15]\n",
    "df7[\"AOI\"]=df7.apply(n_split_AOI7,axis=1)"
   ]
  },
  {
   "cell_type": "code",
   "execution_count": 25,
   "metadata": {},
   "outputs": [],
   "source": [
    "#AOIの変移を表すグラフ\n",
    "def write_grah(df):\n",
    "    df_aoi = df[df[\"AOI\"]!=0]\n",
    "    t1 = df_aoi[\"time\"].iloc[0]\n",
    "    t2 = t1+30\n",
    "    \n",
    "    plt.figure(figsize=(15,5))\n",
    "    plt.xlim(t1-1,t2)\n",
    "    plt.ylim(7.5,-1.5)\n",
    "    p = plt.hlines(1, df[\"time\"].min(), df[\"time\"].max(), \"red\", linestyles='dashed')\n",
    "    p = plt.hlines(2, df[\"time\"].min(), df[\"time\"].max(), \"red\", linestyles='dashed')\n",
    "    p = plt.hlines(3, df[\"time\"].min(), df[\"time\"].max(), \"red\", linestyles='dashed')\n",
    "    p = plt.hlines(4, df[\"time\"].min(), df[\"time\"].max(), \"red\", linestyles='dashed')\n",
    "    p = plt.hlines(5, df[\"time\"].min(), df[\"time\"].max(), \"red\", linestyles='dashed')\n",
    "    p = plt.hlines(6, df[\"time\"].min(), df[\"time\"].max(), \"red\", linestyles='dashed')\n",
    "    plt.plot(df_aoi[\"time\"],df_aoi[\"AOI\"])\n",
    "\n",
    "def time_y_plot(df4):\n",
    "    plt.figure(figsize=(15,5))\n",
    "    plt.ylim(1050,0)\n",
    "    p = plt.hlines([121], df4[\"time\"].min(), df4[\"time\"].max(), \"red\", linestyles='dashed')\n",
    "    p = plt.hlines([263], df4[\"time\"].min(), df4[\"time\"].max(), \"red\", linestyles='dashed')\n",
    "    p = plt.hlines([406], df4[\"time\"].min(), df4[\"time\"].max(), \"red\", linestyles='dashed')\n",
    "    p = plt.hlines([550], df4[\"time\"].min(), df4[\"time\"].max(), \"red\", linestyles='dashed')\n",
    "    p = plt.hlines([693], df4[\"time\"].min(), df4[\"time\"].max(), \"red\", linestyles='dashed')\n",
    "    p = plt.hlines([836], df4[\"time\"].min(), df4[\"time\"].max(), \"red\", linestyles='dashed')\n",
    "\n",
    "    plt.plot(df4[\"time\"],df4[\"y\"])"
   ]
  },
  {
   "cell_type": "code",
   "execution_count": 28,
   "metadata": {},
   "outputs": [],
   "source": [
    "#遷移棒グラフ関数\n",
    "def seni_plot(df,line=6):\n",
    "    a = write_grah_y(df)\n",
    "    c=np.array([])\n",
    "    d=np.array([])\n",
    "    for i in range(1,line+1):                        #iから\n",
    "        for j in range(1,line+1):                #jへの遷移確率\n",
    "            if i!=j:\n",
    "                a_sum = a.count(i)\n",
    "                l=0\n",
    "                if a_sum !=0:\n",
    "                    for k in range(len(a)-1):\n",
    "                            if (a[k]==i)&(a[k+1]==j):\n",
    "                                l = l+1\n",
    "                    c= np.append(c,str(i)+\"->\"+str(j))\n",
    "                    d = np.append(d,l/a_sum)\n",
    "                    print(str(i)+\"->\"+str(j)+\"：\"+str(l/a_sum))\n",
    "                else:\n",
    "                    c= np.append(c,str(i)+\"->\"+str(j))\n",
    "                    d = np.append(d,0)\n",
    "#                     print(str(i)+\"->\"+str(j)+\"：\"+str(0))\n",
    "    plt.figure(figsize=(15,5))\n",
    "    plt.bar(c,d)\n",
    "    \n",
    "#遷移棒グラフ作るようの関数\n",
    "def write_grah_y(df):\n",
    "    df_aoi = df[df[\"AOI\"]!=0]\n",
    "    df_aoi = df_aoi[df_aoi[\"AOI\"]!=-1]\n",
    "    df_aoi = df_aoi.reset_index(drop=True)\n",
    "#     print(df_aoi)\n",
    "    ao = df_aoi[\"AOI\"].iloc[0]\n",
    "    aoi = np.array(df_aoi[\"AOI\"].iloc[0])\n",
    "    times = np.array(df_aoi[\"time\"].iloc[0])\n",
    "    for i , j in df_aoi.iterrows():\n",
    "        if i <=len(df_aoi)-2:\n",
    "            if (j[\"AOI\"]==ao)&(df_aoi.iloc[i+1][\"AOI\"]!=ao):\n",
    "                    aoi=np.append(aoi,(j[\"AOI\"]))\n",
    "                    aoi=np.append(aoi,(df_aoi.iloc[i+1][\"AOI\"]))\n",
    "\n",
    "                    times = np.append(times, j[\"time\"])\n",
    "                    times = np.append(times, df_aoi.iloc[i+1][\"time\"])\n",
    "                    ao = df_aoi.iloc[i+1][\"AOI\"]\n",
    "    a = []\n",
    "    for i in range(len(aoi)):\n",
    "        if i %2==0:\n",
    "            a.append(aoi[i])\n",
    "    return a"
   ]
  },
  {
   "cell_type": "code",
   "execution_count": 27,
   "metadata": {},
   "outputs": [],
   "source": [
    "#サイトにつっこむcsvファイル生成\n",
    "def create_csv(df,filename,participant_name):\n",
    "    df = df[df[\"AOI\"]!=-1]\n",
    "    aoi,times = write_grah_x(df)\n",
    "    a = []\n",
    "    b = []\n",
    "    for i in range(0, len(aoi), 2):\n",
    "        if i+1 <len(aoi):\n",
    "            a.append(times[i+1]-times[i])\n",
    "            b.append(float(aoi[i]))\n",
    "    c = np.reshape(b,(-1,1))\n",
    "    d = np.reshape(a,(-1,1))\n",
    "    data = np.concatenate([c,d],1)\n",
    "    data = pd.DataFrame(data,columns={\"AOIName\",\"FixationDuration\"})\n",
    "    data[\"Stimulus\"]= \"Fruit Plate\"\n",
    "    data[\"Participant\"]=participant_name\n",
    "    file = filename+\".csv\"\n",
    "    data.to_csv(file)\n",
    "    \n",
    "def write_grah_x(df,t=0.1):\n",
    "    df_aoi = df[df[\"AOI\"]!=0]\n",
    "    df_aoi = df_aoi.reset_index(drop=True)\n",
    "#     print(df_aoi)\n",
    "    ao = df_aoi[\"AOI\"].iloc[0]\n",
    "    aoi = np.array(df_aoi[\"AOI\"].iloc[0])\n",
    "    times = np.array(df_aoi[\"time\"].iloc[0])\n",
    "    for i , j in df_aoi.iterrows():\n",
    "        if i <=len(df_aoi)-2:\n",
    "            if (j[\"AOI\"]==ao)&(df_aoi.iloc[i+1][\"AOI\"]!=ao):\n",
    "                    aoi=np.append(aoi,(j[\"AOI\"]))\n",
    "                    aoi=np.append(aoi,(df_aoi.iloc[i+1][\"AOI\"]))\n",
    "\n",
    "                    times = np.append(times, j[\"time\"])\n",
    "                    times = np.append(times, df_aoi.iloc[i+1][\"time\"])\n",
    "                    ao = df_aoi.iloc[i+1][\"AOI\"]\n",
    "    return aoi,times"
   ]
  },
  {
   "cell_type": "code",
   "execution_count": 282,
   "metadata": {},
   "outputs": [
    {
     "data": {
      "image/png": "[encoded data removed]",
      "text/plain": [
       "<Figure size 1080x360 with 1 Axes>"
      ]
     },
     "metadata": {
      "needs_background": "light"
     },
     "output_type": "display_data"
    }
   ],
   "source": [
    "write_grah(df1)"
   ]
  },
  {
   "cell_type": "code",
   "execution_count": 281,
   "metadata": {
    "scrolled": true
   },
   "outputs": [
    {
     "name": "stdout",
     "output_type": "stream",
     "text": [
      "1->2：0.5\n",
      "1->3：0.5\n",
      "1->4：0.0\n",
      "1->5：0.0\n",
      "1->6：0.0\n",
      "2->1：0.2\n",
      "2->3：0.6\n",
      "2->4：0.2\n",
      "2->5：0.0\n",
      "2->6：0.0\n",
      "3->1：0.0\n",
      "3->2：0.2222222222222222\n",
      "3->4：0.6666666666666666\n",
      "3->5：0.1111111111111111\n",
      "3->6：0.0\n",
      "4->1：0.0\n",
      "4->2：0.0\n",
      "4->3：0.625\n",
      "4->5：0.375\n",
      "4->6：0.0\n",
      "5->1：0.0\n",
      "5->2：0.5\n",
      "5->3：0.0\n",
      "5->4：0.25\n",
      "5->6：0.0\n"
     ]
    },
    {
     "data": {
      "image/png": "[encoded data removed]",
      "text/plain": [
       "<Figure size 1080x360 with 1 Axes>"
      ]
     },
     "metadata": {
      "needs_background": "light"
     },
     "output_type": "display_data"
    }
   ],
   "source": [
    "seni_plot(df1)"
   ]
  },
  {
   "cell_type": "code",
   "execution_count": 280,
   "metadata": {},
   "outputs": [
    {
     "data": {
      "image/png": "[encoded data removed]",
      "text/plain": [
       "<Figure size 1080x360 with 1 Axes>"
      ]
     },
     "metadata": {
      "needs_background": "light"
     },
     "output_type": "display_data"
    }
   ],
   "source": [
    "#針ケ谷\n",
    "time_y_plot(df1)"
   ]
  },
  {
   "cell_type": "code",
   "execution_count": 298,
   "metadata": {},
   "outputs": [
    {
     "ename": "ValueError",
     "evalue": "The truth value of a Series is ambiguous. Use a.empty, a.bool(), a.item(), a.any() or a.all().",
     "output_type": "error",
     "traceback": [
      "\u001b[0;31m---------------------------------------------------------------------------\u001b[0m",
      "\u001b[0;31mValueError\u001b[0m                                Traceback (most recent call last)",
      "\u001b[0;32m<ipython-input-298-7695274a870c>\u001b[0m in \u001b[0;36m<module>\u001b[0;34m()\u001b[0m\n\u001b[1;32m      1\u001b[0m \u001b[0;31m# a=8\u001b[0m\u001b[0;34m\u001b[0m\u001b[0;34m\u001b[0m\u001b[0m\n\u001b[1;32m      2\u001b[0m \u001b[0mb\u001b[0m \u001b[0;34m=\u001b[0m\u001b[0;36m7\u001b[0m\u001b[0;34m\u001b[0m\u001b[0m\n\u001b[0;32m----> 3\u001b[0;31m \u001b[0;32mif\u001b[0m \u001b[0ma\u001b[0m \u001b[0;34m+\u001b[0m\u001b[0mb\u001b[0m \u001b[0;34m>\u001b[0m \u001b[0;36m2\u001b[0m\u001b[0;34m:\u001b[0m\u001b[0;34m\u001b[0m\u001b[0m\n\u001b[0m\u001b[1;32m      4\u001b[0m     \u001b[0mb\u001b[0m \u001b[0;34m=\u001b[0m \u001b[0ma\u001b[0m \u001b[0;34m+\u001b[0m \u001b[0;36m1\u001b[0m\u001b[0;34m\u001b[0m\u001b[0m\n\u001b[1;32m      5\u001b[0m     \u001b[0ma\u001b[0m \u001b[0;34m=\u001b[0m \u001b[0ma\u001b[0m \u001b[0;34m-\u001b[0m \u001b[0mb\u001b[0m\u001b[0;34m\u001b[0m\u001b[0m\n",
      "\u001b[0;32m/anaconda3/lib/python3.5/site-packages/pandas/core/generic.py\u001b[0m in \u001b[0;36m__nonzero__\u001b[0;34m(self)\u001b[0m\n\u001b[1;32m   1574\u001b[0m         raise ValueError(\"The truth value of a {0} is ambiguous. \"\n\u001b[1;32m   1575\u001b[0m                          \u001b[0;34m\"Use a.empty, a.bool(), a.item(), a.any() or a.all().\"\u001b[0m\u001b[0;34m\u001b[0m\u001b[0m\n\u001b[0;32m-> 1576\u001b[0;31m                          .format(self.__class__.__name__))\n\u001b[0m\u001b[1;32m   1577\u001b[0m \u001b[0;34m\u001b[0m\u001b[0m\n\u001b[1;32m   1578\u001b[0m     \u001b[0m__bool__\u001b[0m \u001b[0;34m=\u001b[0m \u001b[0m__nonzero__\u001b[0m\u001b[0;34m\u001b[0m\u001b[0m\n",
      "\u001b[0;31mValueError\u001b[0m: The truth value of a Series is ambiguous. Use a.empty, a.bool(), a.item(), a.any() or a.all()."
     ]
    }
   ],
   "source": [
    "# a=8\n",
    "b =7\n",
    "if a +b > 2:\n",
    "    b = a + 1\n",
    "    a = a - b"
   ]
  },
  {
   "cell_type": "code",
   "execution_count": 289,
   "metadata": {
    "scrolled": true
   },
   "outputs": [
    {
     "data": {
      "image/png": "[encoded data removed]",
      "text/plain": [
       "<Figure size 1080x360 with 1 Axes>"
      ]
     },
     "metadata": {
      "needs_background": "light"
     },
     "output_type": "display_data"
    }
   ],
   "source": [
    "#稲垣\n",
    "time_y_plot(df1)"
   ]
  },
  {
   "cell_type": "code",
   "execution_count": 296,
   "metadata": {
    "scrolled": true
   },
   "outputs": [
    {
     "data": {
      "image/png": "[encoded data removed]",
      "text/plain": [
       "<Figure size 1080x360 with 1 Axes>"
      ]
     },
     "metadata": {
      "needs_background": "light"
     },
     "output_type": "display_data"
    }
   ],
   "source": [
    "#長谷川\n",
    "time_y_plot(df1)"
   ]
  },
  {
   "cell_type": "code",
   "execution_count": 290,
   "metadata": {
    "scrolled": false
   },
   "outputs": [
    {
     "data": {
      "image/png": "[encoded data removed]",
      "text/plain": [
       "<Figure size 1080x360 with 1 Axes>"
      ]
     },
     "metadata": {
      "needs_background": "light"
     },
     "output_type": "display_data"
    }
   ],
   "source": [
    "write_grah(df1)"
   ]
  },
  {
   "cell_type": "code",
   "execution_count": 297,
   "metadata": {},
   "outputs": [
    {
     "data": {
      "image/png": "[encoded data removed]",
      "text/plain": [
       "<Figure size 1080x360 with 1 Axes>"
      ]
     },
     "metadata": {
      "needs_background": "light"
     },
     "output_type": "display_data"
    }
   ],
   "source": [
    "write_grah(df1)"
   ]
  },
  {
   "cell_type": "code",
   "execution_count": 264,
   "metadata": {},
   "outputs": [
    {
     "name": "stdout",
     "output_type": "stream",
     "text": [
      "1->2：1.0\n",
      "1->3：0.0\n",
      "1->4：0.0\n",
      "1->5：0.0\n",
      "1->6：0.0\n",
      "2->1：0.4\n",
      "2->3：0.4\n",
      "2->4：0.2\n",
      "2->5：0.0\n",
      "2->6：0.0\n",
      "3->1：0.0\n",
      "3->2：0.5\n",
      "3->4：0.5\n",
      "3->5：0.0\n",
      "3->6：0.0\n",
      "4->1：0.0\n",
      "4->2：0.0\n",
      "4->3：0.6666666666666666\n",
      "4->5：0.0\n",
      "4->6：0.0\n"
     ]
    },
    {
     "data": {
      "image/png": "[encoded data removed]",
      "text/plain": [
       "<Figure size 1080x360 with 1 Axes>"
      ]
     },
     "metadata": {
      "needs_background": "light"
     },
     "output_type": "display_data"
    }
   ],
   "source": [
    "seni_plot(df3)"
   ]
  },
  {
   "cell_type": "code",
   "execution_count": 257,
   "metadata": {},
   "outputs": [
    {
     "name": "stdout",
     "output_type": "stream",
     "text": [
      "1->2：1.0\n",
      "1->3：0.0\n",
      "1->4：0.0\n",
      "1->5：0.0\n",
      "1->6：0.0\n",
      "2->1：0.25\n",
      "2->3：0.5\n",
      "2->4：0.0\n",
      "2->5：0.0\n",
      "2->6：0.0\n",
      "3->1：0.0\n",
      "3->2：0.3333333333333333\n",
      "3->4：0.6666666666666666\n",
      "3->5：0.0\n",
      "3->6：0.0\n",
      "4->1：0.0\n",
      "4->2：0.5\n",
      "4->3：0.5\n",
      "4->5：0.0\n",
      "4->6：0.0\n"
     ]
    },
    {
     "data": {
      "image/png": "[encoded data removed]",
      "text/plain": [
       "<Figure size 1080x360 with 1 Axes>"
      ]
     },
     "metadata": {
      "needs_background": "light"
     },
     "output_type": "display_data"
    }
   ],
   "source": [
    "seni_plot(df3)"
   ]
  },
  {
   "cell_type": "code",
   "execution_count": 233,
   "metadata": {},
   "outputs": [],
   "source": [
    "gl = globals()\n",
    "\n",
    "result_name = \"yobi\"+str(7)\n",
    "name = \"harigaya\"+str(7)\n",
    "name_ = resultname + \".csv\"\n",
    "line = 4\n",
    "\n",
    "data = df7\n",
    "dict = seni_plot_x(data,line=line)\n",
    "data  = pd.DataFrame(dict,index=[\"hasegawa\"])\n",
    "# gl[result_name]=data\n",
    "gl[result_name]=gl[result_name].append(data)\n",
    "#     data.to_csv(name_)"
   ]
  },
  {
   "cell_type": "code",
   "execution_count": 235,
   "metadata": {},
   "outputs": [],
   "source": [
    "yobi7.to_csv(\"yobi7.csv\")"
   ]
  },
  {
   "cell_type": "code",
   "execution_count": 240,
   "metadata": {},
   "outputs": [
    {
     "data": {
      "text/plain": [
       "1->2    0.738889\n",
       "1->3    0.177778\n",
       "1->4    0.083333\n",
       "2->1    0.400000\n",
       "2->3    0.577778\n",
       "2->4    0.022222\n",
       "3->1    0.018519\n",
       "3->2    0.564815\n",
       "3->4    0.416667\n",
       "4->1    0.000000\n",
       "4->2    0.100000\n",
       "4->3    0.533333\n",
       "dtype: float64"
      ]
     },
     "execution_count": 240,
     "metadata": {},
     "output_type": "execute_result"
    }
   ],
   "source": [
    "yobi7.mean()"
   ]
  },
  {
   "cell_type": "code",
   "execution_count": 239,
   "metadata": {},
   "outputs": [
    {
     "data": {
      "text/html": [
       "<div>\n",
       "<style scoped>\n",
       "    .dataframe tbody tr th:only-of-type {\n",
       "        vertical-align: middle;\n",
       "    }\n",
       "\n",
       "    .dataframe tbody tr th {\n",
       "        vertical-align: top;\n",
       "    }\n",
       "\n",
       "    .dataframe thead th {\n",
       "        text-align: right;\n",
       "    }\n",
       "</style>\n",
       "<table border=\"1\" class=\"dataframe\">\n",
       "  <thead>\n",
       "    <tr style=\"text-align: right;\">\n",
       "      <th></th>\n",
       "      <th>2nd1-&gt;2</th>\n",
       "      <th>2nd1-&gt;3</th>\n",
       "      <th>2nd1-&gt;4</th>\n",
       "      <th>2nd2-&gt;1</th>\n",
       "      <th>2nd2-&gt;3</th>\n",
       "      <th>2nd2-&gt;4</th>\n",
       "      <th>2nd3-&gt;1</th>\n",
       "      <th>2nd3-&gt;2</th>\n",
       "      <th>2nd3-&gt;4</th>\n",
       "      <th>2nd4-&gt;1</th>\n",
       "      <th>2nd4-&gt;2</th>\n",
       "      <th>2nd4-&gt;3</th>\n",
       "    </tr>\n",
       "  </thead>\n",
       "  <tbody>\n",
       "    <tr>\n",
       "      <th>test</th>\n",
       "      <td>0.847634</td>\n",
       "      <td>0.649136</td>\n",
       "      <td>0.173827</td>\n",
       "      <td>0.4107</td>\n",
       "      <td>0.660741</td>\n",
       "      <td>0.296296</td>\n",
       "      <td>0.244444</td>\n",
       "      <td>0.620165</td>\n",
       "      <td>0.430761</td>\n",
       "      <td>0.049877</td>\n",
       "      <td>0.401235</td>\n",
       "      <td>0.591111</td>\n",
       "    </tr>\n",
       "  </tbody>\n",
       "</table>\n",
       "</div>"
      ],
      "text/plain": [
       "       2nd1->2   2nd1->3   2nd1->4  2nd2->1   2nd2->3   2nd2->4   2nd3->1  \\\n",
       "test  0.847634  0.649136  0.173827   0.4107  0.660741  0.296296  0.244444   \n",
       "\n",
       "       2nd3->2   2nd3->4   2nd4->1   2nd4->2   2nd4->3  \n",
       "test  0.620165  0.430761  0.049877  0.401235  0.591111  "
      ]
     },
     "execution_count": 239,
     "metadata": {},
     "output_type": "execute_result"
    }
   ],
   "source": [
    "yobi2nd7"
   ]
  },
  {
   "cell_type": "code",
   "execution_count": 237,
   "metadata": {},
   "outputs": [],
   "source": [
    "\n",
    "line = 4\n",
    "dic = {} \n",
    "result_name = \"yobi\"+str(7)\n",
    "result = gl[result_name]\n",
    "result_name2 = \"yobi2nd\"+str(7)\n",
    "for i in range(1,5):\n",
    "    for j in range(1,5):\n",
    "        if i !=j :\n",
    "            category_name = str(i)+\"->\"+str(j)\n",
    "            per = result[category_name].mean()\n",
    "            for k in range(1,5):\n",
    "                if (k!=i)&(k!=j):\n",
    "                    category_name1 = str(i)+\"->\"+str(k)\n",
    "                    per1 =  result[category_name1].mean()\n",
    "                    category_name2 = str(k)+\"->\"+str(j)\n",
    "                    per2 =  result[category_name2].mean()\n",
    "                    per += per1*per2\n",
    "\n",
    "            second_category_name = \"2nd\"+str(i)+\"->\"+str(j)\n",
    "            dic[second_category_name] = per\n",
    "            gl[result_name2]  = pd.DataFrame(dic,index=[\"test\"])     "
   ]
  },
  {
   "cell_type": "code",
   "execution_count": 152,
   "metadata": {},
   "outputs": [],
   "source": [
    "#課題ごとに被験者の実験データをまとめるcsvファイルを作成する\n",
    "#課題ごとの行数\n",
    "lines = [5,5,4,3,5,6,4]\n",
    "\n",
    "#被験者データを入力するとそれぞれの結果ファイルに追加してくれる関数\n",
    "def append_data():\n",
    "    print(1)\n",
    "    \n",
    "gl = globals()\n",
    "for i in range(7):\n",
    "    result_name = \"result\"+str(i+1)\n",
    "    name = \"harigaya\"+str(i+1)\n",
    "    name_ = name + \"csv\"\n",
    "    line = lines[i]\n",
    "    if i == 0 :\n",
    "        data = df1\n",
    "    elif i == 1:\n",
    "        data = df2\n",
    "    elif i== 2:\n",
    "        data =  df3\n",
    "    elif i == 3:\n",
    "        data = df4\n",
    "    elif i==4:\n",
    "        data = df5\n",
    "    elif i==5:\n",
    "        data = df6\n",
    "    elif i==6:\n",
    "        data = df7\n",
    "    dict = seni_plot_x(data,line=line)\n",
    "    data  = pd.DataFrame(dict,index=[\"harigaya\"])\n",
    "#     gl[name]=data\n",
    "    gl[result_name]=gl[result_name].append(data)\n",
    "#     data.to_csv(name_)"
   ]
  },
  {
   "cell_type": "code",
   "execution_count": null,
   "metadata": {},
   "outputs": [],
   "source": [
    "result"
   ]
  },
  {
   "cell_type": "code",
   "execution_count": 241,
   "metadata": {},
   "outputs": [
    {
     "data": {
      "text/plain": [
       "1->2    0.433333\n",
       "1->3    0.250000\n",
       "1->4    0.150000\n",
       "1->5    0.166667\n",
       "2->1    0.406349\n",
       "2->3    0.252381\n",
       "2->4    0.341270\n",
       "2->5    0.000000\n",
       "3->1    0.000000\n",
       "3->2    0.465608\n",
       "3->4    0.497354\n",
       "3->5    0.037037\n",
       "4->1    0.000000\n",
       "4->2    0.126050\n",
       "4->3    0.315966\n",
       "4->5    0.538375\n",
       "5->1    0.000000\n",
       "5->2    0.133333\n",
       "5->3    0.100000\n",
       "5->4    0.533333\n",
       "dtype: float64"
      ]
     },
     "execution_count": 241,
     "metadata": {},
     "output_type": "execute_result"
    }
   ],
   "source": [
    "result2.mean()"
   ]
  },
  {
   "cell_type": "code",
   "execution_count": 130,
   "metadata": {
    "scrolled": true
   },
   "outputs": [],
   "source": [
    "del result1,result2,result3,result4,result5,result6,result7"
   ]
  },
  {
   "cell_type": "code",
   "execution_count": 154,
   "metadata": {},
   "outputs": [],
   "source": [
    "result1.to_csv(\"result1.csv\")\n",
    "result2.to_csv(\"result2.csv\")\n",
    "result3.to_csv(\"result3.csv\")\n",
    "result4.to_csv(\"result4.csv\")\n",
    "result5.to_csv(\"result5.csv\")\n",
    "result6.to_csv(\"result6.csv\")\n",
    "result7.to_csv(\"result7.csv\")"
   ]
  },
  {
   "cell_type": "code",
   "execution_count": 198,
   "metadata": {},
   "outputs": [],
   "source": [
    "result1=pd.read_csv(\"result1.csv\")\n",
    "result2=pd.read_csv(\"result2.csv\")\n",
    "result3=pd.read_csv(\"result3.csv\")\n",
    "result4=pd.read_csv(\"result4.csv\")\n",
    "result5=pd.read_csv(\"result5.csv\")\n",
    "result6=pd.read_csv(\"result6.csv\")\n",
    "result7=pd.read_csv(\"result7.csv\")"
   ]
  },
  {
   "cell_type": "code",
   "execution_count": 92,
   "metadata": {},
   "outputs": [],
   "source": [
    "result1 = result1.append(inagaki1)"
   ]
  },
  {
   "cell_type": "code",
   "execution_count": 199,
   "metadata": {},
   "outputs": [],
   "source": [
    "df = df1\n",
    "for m in range(7):    #何問目の課題か\n",
    "    line = lines[m]\n",
    "    dic = {} \n",
    "    result_name = \"result\"+str(m+1)\n",
    "    result = gl[result_name]\n",
    "    result_name2 = \"result2nd\"+str(m+1)\n",
    "    for i in range(1,line+1):\n",
    "        for j in range(1,line+1):\n",
    "            if i !=j :\n",
    "                category_name = str(i)+\"->\"+str(j)\n",
    "                per = result[category_name].mean()\n",
    "                for k in range(1,line+1):\n",
    "                    if (k!=i)&(k!=j):\n",
    "                        category_name1 = str(i)+\"->\"+str(k)\n",
    "                        per1 =  result[category_name1].mean()\n",
    "                        category_name2 = str(k)+\"->\"+str(j)\n",
    "                        per2 =  result[category_name2].mean()\n",
    "                        per += per1*per2\n",
    "\n",
    "                second_category_name = \"2nd\"+str(i)+\"->\"+str(j)\n",
    "                dic[second_category_name] = per\n",
    "                gl[result_name2]  = pd.DataFrame(dic,index=[\"test\"])     "
   ]
  },
  {
   "cell_type": "code",
   "execution_count": 177,
   "metadata": {},
   "outputs": [
    {
     "data": {
      "text/plain": [
       "0.6833333333333332"
      ]
     },
     "execution_count": 177,
     "metadata": {},
     "output_type": "execute_result"
    }
   ],
   "source": [
    "result1[\"1->2\"].mean()"
   ]
  },
  {
   "cell_type": "code",
   "execution_count": 273,
   "metadata": {
    "scrolled": true
   },
   "outputs": [
    {
     "data": {
      "text/html": [
       "<div>\n",
       "<style scoped>\n",
       "    .dataframe tbody tr th:only-of-type {\n",
       "        vertical-align: middle;\n",
       "    }\n",
       "\n",
       "    .dataframe tbody tr th {\n",
       "        vertical-align: top;\n",
       "    }\n",
       "\n",
       "    .dataframe thead th {\n",
       "        text-align: right;\n",
       "    }\n",
       "</style>\n",
       "<table border=\"1\" class=\"dataframe\">\n",
       "  <thead>\n",
       "    <tr style=\"text-align: right;\">\n",
       "      <th></th>\n",
       "      <th>2nd1-&gt;2</th>\n",
       "      <th>2nd1-&gt;3</th>\n",
       "      <th>2nd1-&gt;4</th>\n",
       "      <th>2nd1-&gt;5</th>\n",
       "      <th>2nd1-&gt;6</th>\n",
       "      <th>2nd2-&gt;1</th>\n",
       "      <th>2nd2-&gt;3</th>\n",
       "      <th>2nd2-&gt;4</th>\n",
       "      <th>2nd2-&gt;5</th>\n",
       "      <th>2nd2-&gt;6</th>\n",
       "      <th>2nd3-&gt;1</th>\n",
       "      <th>2nd3-&gt;2</th>\n",
       "      <th>2nd3-&gt;4</th>\n",
       "      <th>2nd3-&gt;5</th>\n",
       "      <th>2nd3-&gt;6</th>\n",
       "      <th>2nd4-&gt;1</th>\n",
       "      <th>2nd4-&gt;2</th>\n",
       "      <th>2nd4-&gt;3</th>\n",
       "      <th>2nd4-&gt;5</th>\n",
       "      <th>2nd4-&gt;6</th>\n",
       "      <th>2nd5-&gt;1</th>\n",
       "      <th>2nd5-&gt;2</th>\n",
       "      <th>2nd5-&gt;3</th>\n",
       "      <th>2nd5-&gt;4</th>\n",
       "      <th>2nd5-&gt;6</th>\n",
       "      <th>2nd6-&gt;1</th>\n",
       "      <th>2nd6-&gt;2</th>\n",
       "      <th>2nd6-&gt;3</th>\n",
       "      <th>2nd6-&gt;4</th>\n",
       "      <th>2nd6-&gt;5</th>\n",
       "    </tr>\n",
       "  </thead>\n",
       "  <tbody>\n",
       "    <tr>\n",
       "      <th>test</th>\n",
       "      <td>0.748662</td>\n",
       "      <td>0.6366</td>\n",
       "      <td>0.250861</td>\n",
       "      <td>0.00463</td>\n",
       "      <td>0.0</td>\n",
       "      <td>0.531526</td>\n",
       "      <td>0.614261</td>\n",
       "      <td>0.259931</td>\n",
       "      <td>0.003086</td>\n",
       "      <td>0.0</td>\n",
       "      <td>0.302406</td>\n",
       "      <td>0.561508</td>\n",
       "      <td>0.497134</td>\n",
       "      <td>0.039683</td>\n",
       "      <td>0.0</td>\n",
       "      <td>0.126911</td>\n",
       "      <td>0.421958</td>\n",
       "      <td>0.687647</td>\n",
       "      <td>0.083333</td>\n",
       "      <td>0.0</td>\n",
       "      <td>0.013889</td>\n",
       "      <td>0.098876</td>\n",
       "      <td>0.268519</td>\n",
       "      <td>0.246032</td>\n",
       "      <td>0.0</td>\n",
       "      <td>0.0</td>\n",
       "      <td>0.0</td>\n",
       "      <td>0.0</td>\n",
       "      <td>0.0</td>\n",
       "      <td>0.0</td>\n",
       "    </tr>\n",
       "  </tbody>\n",
       "</table>\n",
       "</div>"
      ],
      "text/plain": [
       "       2nd1->2  2nd1->3   2nd1->4  2nd1->5  2nd1->6   2nd2->1   2nd2->3  \\\n",
       "test  0.748662   0.6366  0.250861  0.00463      0.0  0.531526  0.614261   \n",
       "\n",
       "       2nd2->4   2nd2->5  2nd2->6   2nd3->1   2nd3->2   2nd3->4   2nd3->5  \\\n",
       "test  0.259931  0.003086      0.0  0.302406  0.561508  0.497134  0.039683   \n",
       "\n",
       "      2nd3->6   2nd4->1   2nd4->2   2nd4->3   2nd4->5  2nd4->6   2nd5->1  \\\n",
       "test      0.0  0.126911  0.421958  0.687647  0.083333      0.0  0.013889   \n",
       "\n",
       "       2nd5->2   2nd5->3   2nd5->4  2nd5->6  2nd6->1  2nd6->2  2nd6->3  \\\n",
       "test  0.098876  0.268519  0.246032      0.0      0.0      0.0      0.0   \n",
       "\n",
       "      2nd6->4  2nd6->5  \n",
       "test      0.0      0.0  "
      ]
     },
     "execution_count": 273,
     "metadata": {},
     "output_type": "execute_result"
    }
   ],
   "source": [
    "result2nd6"
   ]
  },
  {
   "cell_type": "code",
   "execution_count": 283,
   "metadata": {},
   "outputs": [
    {
     "data": {
      "text/html": [
       "<div>\n",
       "<style scoped>\n",
       "    .dataframe tbody tr th:only-of-type {\n",
       "        vertical-align: middle;\n",
       "    }\n",
       "\n",
       "    .dataframe tbody tr th {\n",
       "        vertical-align: top;\n",
       "    }\n",
       "\n",
       "    .dataframe thead th {\n",
       "        text-align: right;\n",
       "    }\n",
       "</style>\n",
       "<table border=\"1\" class=\"dataframe\">\n",
       "  <thead>\n",
       "    <tr style=\"text-align: right;\">\n",
       "      <th></th>\n",
       "      <th>Unnamed: 0</th>\n",
       "      <th>1-&gt;2</th>\n",
       "      <th>1-&gt;3</th>\n",
       "      <th>1-&gt;4</th>\n",
       "      <th>1-&gt;5</th>\n",
       "      <th>2-&gt;1</th>\n",
       "      <th>2-&gt;3</th>\n",
       "      <th>2-&gt;4</th>\n",
       "      <th>2-&gt;5</th>\n",
       "      <th>3-&gt;1</th>\n",
       "      <th>3-&gt;2</th>\n",
       "      <th>3-&gt;4</th>\n",
       "      <th>3-&gt;5</th>\n",
       "      <th>4-&gt;1</th>\n",
       "      <th>4-&gt;2</th>\n",
       "      <th>4-&gt;3</th>\n",
       "      <th>4-&gt;5</th>\n",
       "      <th>5-&gt;1</th>\n",
       "      <th>5-&gt;2</th>\n",
       "      <th>5-&gt;3</th>\n",
       "      <th>5-&gt;4</th>\n",
       "    </tr>\n",
       "  </thead>\n",
       "  <tbody>\n",
       "    <tr>\n",
       "      <th>0</th>\n",
       "      <td>hasegawa</td>\n",
       "      <td>0.75</td>\n",
       "      <td>0.25</td>\n",
       "      <td>0.0</td>\n",
       "      <td>0.0</td>\n",
       "      <td>0.333333</td>\n",
       "      <td>0.500000</td>\n",
       "      <td>0.0</td>\n",
       "      <td>0.166667</td>\n",
       "      <td>0.166667</td>\n",
       "      <td>0.333333</td>\n",
       "      <td>0.166667</td>\n",
       "      <td>0.333333</td>\n",
       "      <td>0.0</td>\n",
       "      <td>0.250000</td>\n",
       "      <td>0.500000</td>\n",
       "      <td>0.250</td>\n",
       "      <td>0.0</td>\n",
       "      <td>0.0</td>\n",
       "      <td>0.0</td>\n",
       "      <td>0.750000</td>\n",
       "    </tr>\n",
       "    <tr>\n",
       "      <th>1</th>\n",
       "      <td>inagaki</td>\n",
       "      <td>0.80</td>\n",
       "      <td>0.00</td>\n",
       "      <td>0.0</td>\n",
       "      <td>0.2</td>\n",
       "      <td>0.384615</td>\n",
       "      <td>0.615385</td>\n",
       "      <td>0.0</td>\n",
       "      <td>0.000000</td>\n",
       "      <td>0.000000</td>\n",
       "      <td>0.250000</td>\n",
       "      <td>0.750000</td>\n",
       "      <td>0.000000</td>\n",
       "      <td>0.0</td>\n",
       "      <td>0.333333</td>\n",
       "      <td>0.266667</td>\n",
       "      <td>0.400</td>\n",
       "      <td>0.0</td>\n",
       "      <td>0.0</td>\n",
       "      <td>0.0</td>\n",
       "      <td>0.857143</td>\n",
       "    </tr>\n",
       "    <tr>\n",
       "      <th>2</th>\n",
       "      <td>harigaya</td>\n",
       "      <td>0.50</td>\n",
       "      <td>0.50</td>\n",
       "      <td>0.0</td>\n",
       "      <td>0.0</td>\n",
       "      <td>0.200000</td>\n",
       "      <td>0.600000</td>\n",
       "      <td>0.2</td>\n",
       "      <td>0.000000</td>\n",
       "      <td>0.000000</td>\n",
       "      <td>0.222222</td>\n",
       "      <td>0.666667</td>\n",
       "      <td>0.111111</td>\n",
       "      <td>0.0</td>\n",
       "      <td>0.000000</td>\n",
       "      <td>0.625000</td>\n",
       "      <td>0.375</td>\n",
       "      <td>0.0</td>\n",
       "      <td>0.5</td>\n",
       "      <td>0.0</td>\n",
       "      <td>0.250000</td>\n",
       "    </tr>\n",
       "  </tbody>\n",
       "</table>\n",
       "</div>"
      ],
      "text/plain": [
       "  Unnamed: 0  1->2  1->3  1->4  1->5      2->1      2->3  2->4      2->5  \\\n",
       "0   hasegawa  0.75  0.25   0.0   0.0  0.333333  0.500000   0.0  0.166667   \n",
       "1    inagaki  0.80  0.00   0.0   0.2  0.384615  0.615385   0.0  0.000000   \n",
       "2   harigaya  0.50  0.50   0.0   0.0  0.200000  0.600000   0.2  0.000000   \n",
       "\n",
       "       3->1      3->2      3->4      3->5  4->1      4->2      4->3   4->5  \\\n",
       "0  0.166667  0.333333  0.166667  0.333333   0.0  0.250000  0.500000  0.250   \n",
       "1  0.000000  0.250000  0.750000  0.000000   0.0  0.333333  0.266667  0.400   \n",
       "2  0.000000  0.222222  0.666667  0.111111   0.0  0.000000  0.625000  0.375   \n",
       "\n",
       "   5->1  5->2  5->3      5->4  \n",
       "0   0.0   0.0   0.0  0.750000  \n",
       "1   0.0   0.0   0.0  0.857143  \n",
       "2   0.0   0.5   0.0  0.250000  "
      ]
     },
     "execution_count": 283,
     "metadata": {},
     "output_type": "execute_result"
    }
   ],
   "source": [
    "result1"
   ]
  },
  {
   "cell_type": "code",
   "execution_count": 274,
   "metadata": {},
   "outputs": [
    {
     "data": {
      "text/plain": [
       "1->2    0.579365\n",
       "1->3    0.365079\n",
       "1->4    0.055556\n",
       "1->5    0.000000\n",
       "1->6    0.000000\n",
       "2->1    0.497354\n",
       "2->3    0.410053\n",
       "2->4    0.037037\n",
       "2->5    0.000000\n",
       "2->6    0.000000\n",
       "3->1    0.083333\n",
       "3->2    0.440476\n",
       "3->4    0.476190\n",
       "3->5    0.000000\n",
       "3->6    0.000000\n",
       "4->1    0.000000\n",
       "4->2    0.152778\n",
       "4->3    0.611111\n",
       "4->5    0.083333\n",
       "4->6    0.000000\n",
       "5->1    0.000000\n",
       "5->2    0.000000\n",
       "5->3    0.166667\n",
       "5->4    0.166667\n",
       "5->6    0.000000\n",
       "6->1    0.000000\n",
       "6->2    0.000000\n",
       "6->3    0.000000\n",
       "6->4    0.000000\n",
       "6->5    0.000000\n",
       "dtype: float64"
      ]
     },
     "execution_count": 274,
     "metadata": {},
     "output_type": "execute_result"
    }
   ],
   "source": [
    "result6.mean()"
   ]
  },
  {
   "cell_type": "code",
   "execution_count": 197,
   "metadata": {},
   "outputs": [
    {
     "ename": "NameError",
     "evalue": "name 'result2nd1' is not defined",
     "output_type": "error",
     "traceback": [
      "\u001b[0;31m---------------------------------------------------------------------------\u001b[0m",
      "\u001b[0;31mNameError\u001b[0m                                 Traceback (most recent call last)",
      "\u001b[0;32m<ipython-input-197-33e0c3840e37>\u001b[0m in \u001b[0;36m<module>\u001b[0;34m()\u001b[0m\n\u001b[0;32m----> 1\u001b[0;31m \u001b[0mresult2nd1\u001b[0m\u001b[0;34m\u001b[0m\u001b[0m\n\u001b[0m",
      "\u001b[0;31mNameError\u001b[0m: name 'result2nd1' is not defined"
     ]
    }
   ],
   "source": [
    "res"
   ]
  },
  {
   "cell_type": "code",
   "execution_count": 34,
   "metadata": {},
   "outputs": [
    {
     "name": "stdout",
     "output_type": "stream",
     "text": [
      "シンボルはt3、\n",
      "シンボルは__package__、\n",
      "シンボルは_i10、\n",
      "シンボルはdf1、\n",
      "シンボルは_i6、\n",
      "シンボルはt11、\n",
      "シンボルはdf4、\n",
      "シンボルは___、\n",
      "シンボルは_i12、\n",
      "シンボルは__spec__、\n",
      "シンボルは_i25、\n",
      "シンボルはseni_plot、\n",
      "シンボルはy3、\n",
      "シンボルはcreate_csv、\n",
      "シンボルはv、\n",
      "シンボルはtt3、\n",
      "シンボルはtii、\n",
      "シンボルは_i15、\n",
      "シンボルはplt、\n",
      "シンボルはdf3、\n",
      "シンボルはt14、\n",
      "シンボルはexit、\n",
      "シンボルはtiii、\n",
      "シンボルは_i18、\n",
      "シンボルはtt2、\n",
      "シンボルは__loader__、\n",
      "シンボルはload、\n",
      "シンボルは_i32、\n",
      "シンボルはdf_copy、\n",
      "シンボルは_i26、\n",
      "シンボルは_i28、\n",
      "シンボルはn_split_AOI6、\n",
      "シンボルはa2、\n",
      "シンボルは_i、\n",
      "シンボルはt13、\n",
      "シンボルはy2、\n",
      "シンボルは_i3、\n",
      "シンボルは_i24、\n",
      "シンボルはwrite_grah_y、\n",
      "シンボルはn_split_AOI1、\n",
      "シンボルはcm、\n",
      "シンボルはt2、\n",
      "シンボルはpd、\n",
      "シンボルはtime_y_plot、\n",
      "シンボルは_i17、\n",
      "シンボルはtt1、\n",
      "シンボルは_i4、\n",
      "シンボルはsymbol、\n",
      "シンボルはdy、\n",
      "シンボルは_oh、\n",
      "シンボルは__builtin__、\n",
      "シンボルは_i11、\n",
      "シンボルはdf2、\n",
      "シンボルはt12、\n",
      "シンボルは__doc__、\n",
      "シンボルはmpimg、\n",
      "シンボルはpixel_cm、\n",
      "シンボルは_i27、\n",
      "シンボルはt9、\n",
      "シンボルは_i1、\n",
      "シンボルはnp、\n",
      "シンボルは_i34、\n",
      "シンボルは_、\n",
      "シンボルはwrite_grah、\n",
      "シンボルはk、\n",
      "シンボルは_i8、\n",
      "シンボルはn_split_AOI3、\n",
      "シンボルはc、\n",
      "シンボルはt10、\n",
      "シンボルはdf、\n",
      "シンボルはcv2、\n",
      "シンボルはplot_color、\n",
      "シンボルはget_ipython、\n",
      "シンボルはa1、\n",
      "シンボルは_i22、\n",
      "シンボルは_i29、\n",
      "シンボルはy1、\n",
      "シンボルはy5、\n",
      "シンボルはt15、\n",
      "シンボルはgreen_circle、\n",
      "シンボルはvalue、\n",
      "シンボルはi、\n",
      "シンボルはn_split_AOI4、\n",
      "シンボルは_i9、\n",
      "シンボルはdistance、\n",
      "シンボルは_i5、\n",
      "シンボルはdf7、\n",
      "シンボルは__builtins__、\n",
      "シンボルはt5、\n",
      "シンボルはdist、\n",
      "シンボルはdf6、\n",
      "シンボルはy4、\n",
      "シンボルは__、\n",
      "シンボルはn_split_AOI2、\n",
      "シンボルは__name__、\n",
      "シンボルはt6、\n",
      "シンボルはt8、\n",
      "シンボルは_i33、\n",
      "シンボルはt4、\n",
      "シンボルは_ii、\n",
      "シンボルはOut、\n",
      "シンボルはt1、\n",
      "シンボルはvideo_maker、\n",
      "シンボルは_iii、\n",
      "シンボルはt、\n",
      "シンボルは_i2、\n",
      "シンボルはn_split_AOI5、\n",
      "シンボルは_i14、\n",
      "シンボルはy6、\n",
      "シンボルはj、\n",
      "シンボルはti、\n",
      "シンボルは_i19、\n",
      "シンボルは_i31、\n",
      "シンボルは_i21、\n",
      "シンボルは_i16、\n",
      "シンボルは_dh、\n",
      "シンボルは_i23、\n",
      "シンボルは_i20、\n",
      "シンボルはtranslate、\n",
      "シンボルはt7、\n",
      "シンボルは_ih、\n",
      "シンボルはwrite_grah_x、\n",
      "シンボルは_i30、\n",
      "シンボルはdf5、\n",
      "シンボルはconvert_from_path、\n",
      "シンボルはabb、\n",
      "シンボルはn_split_AOI7、\n",
      "シンボルは_i13、\n",
      "シンボルはquit、\n",
      "シンボルは_i7、\n",
      "シンボルはIn、\n"
     ]
    }
   ],
   "source": [
    " for (symbol, value) in globals().items():\n",
    "    print('シンボルは%s、' % (symbol ))\n",
    "    "
   ]
  },
  {
   "cell_type": "code",
   "execution_count": 42,
   "metadata": {},
   "outputs": [],
   "source": [
    "from inspect import currentframe\n",
    "\n",
    "def chkprint(*args):\n",
    "    names = {id(v):k for k,v in currentframe().f_back.f_locals.items()}\n",
    "    print(', '.join(names.get(id(arg),'???')+' = '+repr(arg) for arg in args))"
   ]
  },
  {
   "cell_type": "code",
   "execution_count": 68,
   "metadata": {},
   "outputs": [
    {
     "ename": "NameError",
     "evalue": "name 'somemodule' is not defined",
     "output_type": "error",
     "traceback": [
      "\u001b[0;31m---------------------------------------------------------------------------\u001b[0m",
      "\u001b[0;31mNameError\u001b[0m                                 Traceback (most recent call last)",
      "\u001b[0;32m<ipython-input-68-90fba8f138ed>\u001b[0m in \u001b[0;36m<module>\u001b[0;34m()\u001b[0m\n\u001b[1;32m      8\u001b[0m \u001b[0;34m\u001b[0m\u001b[0m\n\u001b[1;32m      9\u001b[0m \u001b[0;32mif\u001b[0m \u001b[0m__name__\u001b[0m \u001b[0;34m==\u001b[0m \u001b[0;34m'__main__'\u001b[0m\u001b[0;34m:\u001b[0m\u001b[0;34m\u001b[0m\u001b[0m\n\u001b[0;32m---> 10\u001b[0;31m     \u001b[0mintrospect\u001b[0m\u001b[0;34m(\u001b[0m\u001b[0msomemodule\u001b[0m\u001b[0;34m,\u001b[0m \u001b[0msomeobject\u001b[0m\u001b[0;34m)\u001b[0m\u001b[0;34m\u001b[0m\u001b[0m\n\u001b[0m",
      "\u001b[0;31mNameError\u001b[0m: name 'somemodule' is not defined"
     ]
    }
   ],
   "source": [
    "import importlib\n",
    "def introspect(foo, bar):\n",
    "    imported_module = importlib.import_module(foo)\n",
    "    imported_object = getattr(imported_module, bar)\n",
    "    for item in inspect.getmembers(imported_object):\n",
    "        if callable(getattr(imported_object, item[0])):\n",
    "            print(item)\n",
    "\n",
    "if __name__ == '__main__':\n",
    "    introspect(somemodule, someobject)"
   ]
  },
  {
   "cell_type": "code",
   "execution_count": 51,
   "metadata": {},
   "outputs": [],
   "source": [
    "exec(\"%s = %d\" % (\"df1\",2))"
   ]
  },
  {
   "cell_type": "code",
   "execution_count": 55,
   "metadata": {},
   "outputs": [
    {
     "data": {
      "text/plain": [
       "{'a1': 3}"
      ]
     },
     "execution_count": 55,
     "metadata": {},
     "output_type": "execute_result"
    }
   ],
   "source": [
    "a = {}\n",
    "a[\"a1\"]=3\n",
    "a"
   ]
  },
  {
   "cell_type": "code",
   "execution_count": 57,
   "metadata": {},
   "outputs": [],
   "source": [
    "def seni_plot_x(df,line=6):\n",
    "    a = write_grah_y(df)\n",
    "    b = {}\n",
    "    c=np.array([])\n",
    "    d=np.array([])\n",
    "    for i in range(1,line+1):                        #iから\n",
    "        for j in range(1,line+1):                #jへの遷移確率\n",
    "            if i!=j:\n",
    "                a_sum = a.count(i)\n",
    "                l=0\n",
    "                if a_sum !=0:\n",
    "                    for k in range(len(a)-1):\n",
    "                            if (a[k]==i)&(a[k+1]==j):\n",
    "                                l = l+1\n",
    "                    c= np.append(c,str(i)+\"->\"+str(j))\n",
    "                    d = np.append(d,l/a_sum)\n",
    "                    e = str(i)+\"->\"+str(j)\n",
    "                    f = l/a_sum\n",
    "                    b[e]= f\n",
    "#                     print(str(i)+\"->\"+str(j)+\"：\"+str(l/a_sum))\n",
    "                else:\n",
    "                    c= np.append(c,str(i)+\"->\"+str(j))\n",
    "                    d = np.append(d,0)\n",
    "                    e = str(i)+\"->\"+str(j)\n",
    "                    f = 0\n",
    "                    b[e]= f\n",
    "#                     print(str(i)+\"->\"+str(j)+\"：\"+str(0))\n",
    "    return b    \n",
    "#遷移棒グラフ作るようの関数\n",
    "def write_grah_y(df):\n",
    "    df_aoi = df[df[\"AOI\"]!=0]\n",
    "    df_aoi = df_aoi[df_aoi[\"AOI\"]!=-1]\n",
    "    df_aoi = df_aoi.reset_index(drop=True)\n",
    "#     print(df_aoi)\n",
    "    ao = df_aoi[\"AOI\"].iloc[0]\n",
    "    aoi = np.array(df_aoi[\"AOI\"].iloc[0])\n",
    "    times = np.array(df_aoi[\"time\"].iloc[0])\n",
    "    for i , j in df_aoi.iterrows():\n",
    "        if i <=len(df_aoi)-2:\n",
    "            if (j[\"AOI\"]==ao)&(df_aoi.iloc[i+1][\"AOI\"]!=ao):\n",
    "                    aoi=np.append(aoi,(j[\"AOI\"]))\n",
    "                    aoi=np.append(aoi,(df_aoi.iloc[i+1][\"AOI\"]))\n",
    "\n",
    "                    times = np.append(times, j[\"time\"])\n",
    "                    times = np.append(times, df_aoi.iloc[i+1][\"time\"])\n",
    "                    ao = df_aoi.iloc[i+1][\"AOI\"]\n",
    "    a = []\n",
    "    for i in range(len(aoi)):\n",
    "        if i %2==0:\n",
    "            a.append(aoi[i])\n",
    "    return a"
   ]
  },
  {
   "cell_type": "code",
   "execution_count": 63,
   "metadata": {
    "scrolled": true
   },
   "outputs": [
    {
     "data": {
      "text/html": [
       "<div>\n",
       "<style scoped>\n",
       "    .dataframe tbody tr th:only-of-type {\n",
       "        vertical-align: middle;\n",
       "    }\n",
       "\n",
       "    .dataframe tbody tr th {\n",
       "        vertical-align: top;\n",
       "    }\n",
       "\n",
       "    .dataframe thead th {\n",
       "        text-align: right;\n",
       "    }\n",
       "</style>\n",
       "<table border=\"1\" class=\"dataframe\">\n",
       "  <thead>\n",
       "    <tr style=\"text-align: right;\">\n",
       "      <th></th>\n",
       "      <th>1-&gt;2</th>\n",
       "      <th>1-&gt;3</th>\n",
       "      <th>1-&gt;4</th>\n",
       "      <th>1-&gt;5</th>\n",
       "      <th>1-&gt;6</th>\n",
       "      <th>2-&gt;1</th>\n",
       "      <th>2-&gt;3</th>\n",
       "      <th>2-&gt;4</th>\n",
       "      <th>2-&gt;5</th>\n",
       "      <th>2-&gt;6</th>\n",
       "      <th>...</th>\n",
       "      <th>5-&gt;1</th>\n",
       "      <th>5-&gt;2</th>\n",
       "      <th>5-&gt;3</th>\n",
       "      <th>5-&gt;4</th>\n",
       "      <th>5-&gt;6</th>\n",
       "      <th>6-&gt;1</th>\n",
       "      <th>6-&gt;2</th>\n",
       "      <th>6-&gt;3</th>\n",
       "      <th>6-&gt;4</th>\n",
       "      <th>6-&gt;5</th>\n",
       "    </tr>\n",
       "  </thead>\n",
       "  <tbody>\n",
       "    <tr>\n",
       "      <th>hasegawa</th>\n",
       "      <td>0.5</td>\n",
       "      <td>0.25</td>\n",
       "      <td>0.25</td>\n",
       "      <td>0.0</td>\n",
       "      <td>0.0</td>\n",
       "      <td>0.6</td>\n",
       "      <td>0.4</td>\n",
       "      <td>0.0</td>\n",
       "      <td>0.0</td>\n",
       "      <td>0.0</td>\n",
       "      <td>...</td>\n",
       "      <td>0.0</td>\n",
       "      <td>0.0</td>\n",
       "      <td>0.0</td>\n",
       "      <td>0.5</td>\n",
       "      <td>0.0</td>\n",
       "      <td>0</td>\n",
       "      <td>0</td>\n",
       "      <td>0</td>\n",
       "      <td>0</td>\n",
       "      <td>0</td>\n",
       "    </tr>\n",
       "  </tbody>\n",
       "</table>\n",
       "<p>1 rows × 30 columns</p>\n",
       "</div>"
      ],
      "text/plain": [
       "          1->2  1->3  1->4  1->5  1->6  2->1  2->3  2->4  2->5  2->6  ...   \\\n",
       "hasegawa   0.5  0.25  0.25   0.0   0.0   0.6   0.4   0.0   0.0   0.0  ...    \n",
       "\n",
       "          5->1  5->2  5->3  5->4  5->6  6->1  6->2  6->3  6->4  6->5  \n",
       "hasegawa   0.0   0.0   0.0   0.5   0.0     0     0     0     0     0  \n",
       "\n",
       "[1 rows x 30 columns]"
      ]
     },
     "execution_count": 63,
     "metadata": {},
     "output_type": "execute_result"
    }
   ],
   "source": [
    "pd.DataFrame(seni_plot_x(df2),index = [\"hasegawa\"])"
   ]
  }
 ],
 "metadata": {
  "kernelspec": {
   "display_name": "Python 3",
   "language": "python",
   "name": "python3"
  },
  "language_info": {
   "codemirror_mode": {
    "name": "ipython",
    "version": 3
   },
   "file_extension": ".py",
   "mimetype": "text/x-python",
   "name": "python",
   "nbconvert_exporter": "python",
   "pygments_lexer": "ipython3",
   "version": "3.5.6"
  }
 },
 "nbformat": 4,
 "nbformat_minor": 2
}
